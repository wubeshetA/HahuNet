{
  "nbformat": 4,
  "nbformat_minor": 0,
  "metadata": {
    "colab": {
      "provenance": [],
      "toc_visible": true,
      "authorship_tag": "ABX9TyP0CaPME37dtdk4fXYz/rz9",
      "include_colab_link": true
    },
    "kernelspec": {
      "name": "python3",
      "display_name": "Python 3"
    },
    "language_info": {
      "name": "python"
    }
  },
  "cells": [
    {
      "cell_type": "markdown",
      "metadata": {
        "id": "view-in-github",
        "colab_type": "text"
      },
      "source": [
        "<a href=\"https://colab.research.google.com/github/wubeshetA/HahuNet/blob/main/src/HahuNet.ipynb\" target=\"_parent\"><img src=\"https://colab.research.google.com/assets/colab-badge.svg\" alt=\"Open In Colab\"/></a>"
      ]
    },
    {
      "cell_type": "markdown",
      "source": [
        "# **HahuNet**\n",
        "HahuNet a convolutional Neural Network to recognize handwritten amharic alphabet characters."
      ],
      "metadata": {
        "id": "4JAJYxQqFH3C"
      }
    },
    {
      "cell_type": "markdown",
      "source": [
        "## Procedures\n",
        "0. Introduction\n",
        "1. Data Loading\n",
        "2. Data Preprocessing\n",
        "3. Model Architecture\n",
        "4. Training\n",
        "5. Evaluation\n",
        "6. Model Improvement (Regularization, Optimization)\n",
        "7. Evaluation (Iterate until high accuracy achieved)\n",
        "8. Test data Prediction\n"
      ],
      "metadata": {
        "id": "wGqfmtqHGtlV"
      }
    },
    {
      "cell_type": "markdown",
      "source": [
        "# 0. Introduction"
      ],
      "metadata": {
        "id": "RXtvsh7yIZfK"
      }
    },
    {
      "cell_type": "markdown",
      "source": [
        "The Amharic language, primarily spoken in Ethiopia, is written using a version of the Ge’ez script known as Fidel. Despite its widespread use, there are limited resources available for the digital recognition of handwritten Amharic text. This project aims to address this gap by developing a Machine Learning (ML) model capable of recognizing the handwritten Amharic alphabet. The successful implementation of this project could have a significant social impact, particularly in the fields of education, communication, and digitization of historical documents."
      ],
      "metadata": {
        "id": "vZAN39NFbY0T"
      }
    },
    {
      "cell_type": "markdown",
      "source": [],
      "metadata": {
        "id": "PsgFCTuNbe2a"
      }
    },
    {
      "cell_type": "markdown",
      "source": [],
      "metadata": {
        "id": "FEwUWNUVbg1I"
      }
    }
  ]
}